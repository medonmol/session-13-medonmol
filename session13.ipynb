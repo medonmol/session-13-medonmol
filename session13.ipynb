{
 "cells": [
  {
   "cell_type": "code",
   "execution_count": 3,
   "source": [
    "import session13 \r\n",
    "from importlib import reload\r\n",
    "reload(session13)\r\n"
   ],
   "outputs": [
    {
     "output_type": "execute_result",
     "data": {
      "text/plain": [
       "<module 'session13' from 'e:\\\\TSAI\\\\EPAi_3\\\\session-13-medonmol\\\\session13.py'>"
      ]
     },
     "metadata": {},
     "execution_count": 3
    }
   ],
   "metadata": {}
  },
  {
   "cell_type": "code",
   "execution_count": 4,
   "source": [
    "car_tickets = session13.VehicleGen('nyc_parking_tickets_extract-1.csv')"
   ],
   "outputs": [],
   "metadata": {}
  },
  {
   "cell_type": "markdown",
   "source": [
    "As the `VehicleGen` class contains an `__iter__` method that returns a generator method at every call, we do not need to re-instantiate the `car_tickets` class once the generator is exhaused."
   ],
   "metadata": {}
  },
  {
   "cell_type": "code",
   "execution_count": 5,
   "source": [
    "tickets_gen = (ticket for ticket in car_tickets)\r\n",
    "print(next(tickets_gen))\r\n"
   ],
   "outputs": [
    {
     "output_type": "stream",
     "name": "stdout",
     "text": [
      "CarTicket(summons_number=4006478550, plate_id='VAD7274', registration_state='VA', plate_type='PAS', issue_date=datetime.date(2016, 10, 5), violation_code=5, vehicle_body_type='4D', vehicle_make='BMW', violation_description='BUS LANE VIOLATION')\n"
     ]
    }
   ],
   "metadata": {}
  },
  {
   "cell_type": "code",
   "execution_count": 6,
   "source": [
    "for _ in range(999):\r\n",
    "    _ = next(tickets_gen)"
   ],
   "outputs": [],
   "metadata": {}
  },
  {
   "cell_type": "code",
   "execution_count": 7,
   "source": [
    "tickets_gen = (ticket for ticket in car_tickets)\r\n",
    "for _ in range(1000):\r\n",
    "    _ = next(tickets_gen)"
   ],
   "outputs": [],
   "metadata": {}
  },
  {
   "cell_type": "markdown",
   "source": [
    "Reading in the `csv` as a pandas dataframe to verify the number of violations by car make"
   ],
   "metadata": {}
  },
  {
   "cell_type": "code",
   "execution_count": 8,
   "source": [
    "import pandas as pd\r\n",
    "data_csv = pd.read_csv('nyc_parking_tickets_extract-1.csv')\r\n",
    "data_csv.head()"
   ],
   "outputs": [
    {
     "output_type": "execute_result",
     "data": {
      "text/plain": [
       "   Summons Number  Plate ID Registration State Plate Type  Issue Date  \\\n",
       "0      4006478550   VAD7274                 VA        PAS   10/5/2016   \n",
       "1      4006462396   22834JK                 NY        COM   9/30/2016   \n",
       "2      4007117810   21791MG                 NY        COM   4/10/2017   \n",
       "3      4006265037   FZX9232                 NY        PAS   8/23/2016   \n",
       "4      4006535600  N203399C                 NY        OMT  10/19/2016   \n",
       "\n",
       "   Violation Code Vehicle Body Type Vehicle Make Violation Description  \n",
       "0               5                4D          BMW    BUS LANE VIOLATION  \n",
       "1               5               VAN        CHEVR    BUS LANE VIOLATION  \n",
       "2               5               VAN        DODGE    BUS LANE VIOLATION  \n",
       "3               5              SUBN         FORD    BUS LANE VIOLATION  \n",
       "4               5              SUBN         FORD    BUS LANE VIOLATION  "
      ],
      "text/html": [
       "<div>\n",
       "<style scoped>\n",
       "    .dataframe tbody tr th:only-of-type {\n",
       "        vertical-align: middle;\n",
       "    }\n",
       "\n",
       "    .dataframe tbody tr th {\n",
       "        vertical-align: top;\n",
       "    }\n",
       "\n",
       "    .dataframe thead th {\n",
       "        text-align: right;\n",
       "    }\n",
       "</style>\n",
       "<table border=\"1\" class=\"dataframe\">\n",
       "  <thead>\n",
       "    <tr style=\"text-align: right;\">\n",
       "      <th></th>\n",
       "      <th>Summons Number</th>\n",
       "      <th>Plate ID</th>\n",
       "      <th>Registration State</th>\n",
       "      <th>Plate Type</th>\n",
       "      <th>Issue Date</th>\n",
       "      <th>Violation Code</th>\n",
       "      <th>Vehicle Body Type</th>\n",
       "      <th>Vehicle Make</th>\n",
       "      <th>Violation Description</th>\n",
       "    </tr>\n",
       "  </thead>\n",
       "  <tbody>\n",
       "    <tr>\n",
       "      <th>0</th>\n",
       "      <td>4006478550</td>\n",
       "      <td>VAD7274</td>\n",
       "      <td>VA</td>\n",
       "      <td>PAS</td>\n",
       "      <td>10/5/2016</td>\n",
       "      <td>5</td>\n",
       "      <td>4D</td>\n",
       "      <td>BMW</td>\n",
       "      <td>BUS LANE VIOLATION</td>\n",
       "    </tr>\n",
       "    <tr>\n",
       "      <th>1</th>\n",
       "      <td>4006462396</td>\n",
       "      <td>22834JK</td>\n",
       "      <td>NY</td>\n",
       "      <td>COM</td>\n",
       "      <td>9/30/2016</td>\n",
       "      <td>5</td>\n",
       "      <td>VAN</td>\n",
       "      <td>CHEVR</td>\n",
       "      <td>BUS LANE VIOLATION</td>\n",
       "    </tr>\n",
       "    <tr>\n",
       "      <th>2</th>\n",
       "      <td>4007117810</td>\n",
       "      <td>21791MG</td>\n",
       "      <td>NY</td>\n",
       "      <td>COM</td>\n",
       "      <td>4/10/2017</td>\n",
       "      <td>5</td>\n",
       "      <td>VAN</td>\n",
       "      <td>DODGE</td>\n",
       "      <td>BUS LANE VIOLATION</td>\n",
       "    </tr>\n",
       "    <tr>\n",
       "      <th>3</th>\n",
       "      <td>4006265037</td>\n",
       "      <td>FZX9232</td>\n",
       "      <td>NY</td>\n",
       "      <td>PAS</td>\n",
       "      <td>8/23/2016</td>\n",
       "      <td>5</td>\n",
       "      <td>SUBN</td>\n",
       "      <td>FORD</td>\n",
       "      <td>BUS LANE VIOLATION</td>\n",
       "    </tr>\n",
       "    <tr>\n",
       "      <th>4</th>\n",
       "      <td>4006535600</td>\n",
       "      <td>N203399C</td>\n",
       "      <td>NY</td>\n",
       "      <td>OMT</td>\n",
       "      <td>10/19/2016</td>\n",
       "      <td>5</td>\n",
       "      <td>SUBN</td>\n",
       "      <td>FORD</td>\n",
       "      <td>BUS LANE VIOLATION</td>\n",
       "    </tr>\n",
       "  </tbody>\n",
       "</table>\n",
       "</div>"
      ]
     },
     "metadata": {},
     "execution_count": 8
    }
   ],
   "metadata": {}
  },
  {
   "cell_type": "code",
   "execution_count": 11,
   "source": [
    "violations_by_make = data_csv.groupby('Vehicle Make').size().sort_values(0, ascending=False).reset_index(name='violation_count')\r\n",
    "violations_by_make.head(10)"
   ],
   "outputs": [
    {
     "output_type": "execute_result",
     "data": {
      "text/plain": [
       "  Vehicle Make  violation_count\n",
       "0        TOYOT              112\n",
       "1        HONDA              106\n",
       "2         FORD              104\n",
       "3        CHEVR               76\n",
       "4        NISSA               70\n",
       "5        DODGE               45\n",
       "6        FRUEH               44\n",
       "7        ME/BE               38\n",
       "8          GMC               35\n",
       "9        HYUND               35"
      ],
      "text/html": [
       "<div>\n",
       "<style scoped>\n",
       "    .dataframe tbody tr th:only-of-type {\n",
       "        vertical-align: middle;\n",
       "    }\n",
       "\n",
       "    .dataframe tbody tr th {\n",
       "        vertical-align: top;\n",
       "    }\n",
       "\n",
       "    .dataframe thead th {\n",
       "        text-align: right;\n",
       "    }\n",
       "</style>\n",
       "<table border=\"1\" class=\"dataframe\">\n",
       "  <thead>\n",
       "    <tr style=\"text-align: right;\">\n",
       "      <th></th>\n",
       "      <th>Vehicle Make</th>\n",
       "      <th>violation_count</th>\n",
       "    </tr>\n",
       "  </thead>\n",
       "  <tbody>\n",
       "    <tr>\n",
       "      <th>0</th>\n",
       "      <td>TOYOT</td>\n",
       "      <td>112</td>\n",
       "    </tr>\n",
       "    <tr>\n",
       "      <th>1</th>\n",
       "      <td>HONDA</td>\n",
       "      <td>106</td>\n",
       "    </tr>\n",
       "    <tr>\n",
       "      <th>2</th>\n",
       "      <td>FORD</td>\n",
       "      <td>104</td>\n",
       "    </tr>\n",
       "    <tr>\n",
       "      <th>3</th>\n",
       "      <td>CHEVR</td>\n",
       "      <td>76</td>\n",
       "    </tr>\n",
       "    <tr>\n",
       "      <th>4</th>\n",
       "      <td>NISSA</td>\n",
       "      <td>70</td>\n",
       "    </tr>\n",
       "    <tr>\n",
       "      <th>5</th>\n",
       "      <td>DODGE</td>\n",
       "      <td>45</td>\n",
       "    </tr>\n",
       "    <tr>\n",
       "      <th>6</th>\n",
       "      <td>FRUEH</td>\n",
       "      <td>44</td>\n",
       "    </tr>\n",
       "    <tr>\n",
       "      <th>7</th>\n",
       "      <td>ME/BE</td>\n",
       "      <td>38</td>\n",
       "    </tr>\n",
       "    <tr>\n",
       "      <th>8</th>\n",
       "      <td>GMC</td>\n",
       "      <td>35</td>\n",
       "    </tr>\n",
       "    <tr>\n",
       "      <th>9</th>\n",
       "      <td>HYUND</td>\n",
       "      <td>35</td>\n",
       "    </tr>\n",
       "  </tbody>\n",
       "</table>\n",
       "</div>"
      ]
     },
     "metadata": {},
     "execution_count": 11
    }
   ],
   "metadata": {}
  },
  {
   "cell_type": "code",
   "execution_count": 10,
   "source": [
    "car_tickets.count_violations().most_common(10)"
   ],
   "outputs": [
    {
     "output_type": "execute_result",
     "data": {
      "text/plain": [
       "[('TOYOT', 112),\n",
       " ('HONDA', 106),\n",
       " ('FORD', 104),\n",
       " ('CHEVR', 76),\n",
       " ('NISSA', 70),\n",
       " ('DODGE', 45),\n",
       " ('FRUEH', 44),\n",
       " ('ME/BE', 38),\n",
       " ('GMC', 35),\n",
       " ('HYUND', 35)]"
      ]
     },
     "metadata": {},
     "execution_count": 10
    }
   ],
   "metadata": {}
  },
  {
   "cell_type": "code",
   "execution_count": null,
   "source": [],
   "outputs": [],
   "metadata": {}
  }
 ],
 "metadata": {
  "orig_nbformat": 4,
  "language_info": {
   "name": "python",
   "version": "3.9.1",
   "mimetype": "text/x-python",
   "codemirror_mode": {
    "name": "ipython",
    "version": 3
   },
   "pygments_lexer": "ipython3",
   "nbconvert_exporter": "python",
   "file_extension": ".py"
  },
  "kernelspec": {
   "name": "python3",
   "display_name": "Python 3.9.1 64-bit ('base': conda)"
  },
  "interpreter": {
   "hash": "9131c53ea609b1c83a4930f9ef9b895156b0f40bc80fb8f9ee0bf5a21c6927cd"
  }
 },
 "nbformat": 4,
 "nbformat_minor": 2
}